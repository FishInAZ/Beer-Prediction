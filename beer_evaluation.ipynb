{
 "cells": [
  {
   "cell_type": "code",
   "execution_count": 16,
   "id": "initial_id",
   "metadata": {
    "collapsed": true,
    "ExecuteTime": {
     "end_time": "2023-12-04T02:06:04.255729Z",
     "start_time": "2023-12-04T02:06:04.243722600Z"
    }
   },
   "outputs": [],
   "source": [
    "import pickle\n",
    "import tensorflow as tf\n",
    "from collections import defaultdict\n",
    "import random"
   ]
  },
  {
   "cell_type": "code",
   "execution_count": 3,
   "outputs": [],
   "source": [
    "# load the data\n",
    "with open('beer_variables.pkl', 'rb') as file:\n",
    "    beer_variables = pickle.load(file)\n",
    "\n",
    "# format: xxxIDs[user] = id\n",
    "userIDs = beer_variables['userIDs']\n",
    "itemIDs = beer_variables['itemIDs']\n",
    "userIDs_train = beer_variables['userIDs_train']\n",
    "itemIDs_train = beer_variables['itemIDs_train']\n",
    "\n",
    "# format: interactions_xxx: (time, user, item, rating)\n",
    "interactions_test = beer_variables['interactions_test']\n",
    "interactions_used = beer_variables['interactions_used']\n",
    "interactions_train = beer_variables['interactions_train']\n",
    "interactions_ver = beer_variables['interactions_ver']\n",
    "\n",
    "# format: interactionsPerUser_xxx: [user] = [(time, item, rating)]\n",
    "interactionsPerUser_test = beer_variables['interactionsPerUser_test']\n",
    "interactionsPerUser_used = beer_variables['interactionsPerUser_used']\n",
    "interactionsPerUser_train = beer_variables['interactionsPerUser_train']\n",
    "interactionsPerUser_ver = beer_variables['interactionsPerUser_ver']\n",
    "\n",
    "# format: interactionsWithPrevious_xxx: (time, user, item, lastItem, rating)\n",
    "interactionsWithPrevious = beer_variables['interactionsWithPrevious']\n",
    "interactionsWithPrevious_ver = beer_variables['interactionsWithPrevious_ver']\n",
    "interactionsWithPrevious_test = beer_variables['interactionsWithPrevious_test']\n",
    "\n",
    "# format: itemsPerUser_xxx: [user] = [item]\n",
    "itemsPerUser_train = beer_variables['itemsPerUser_train']\n",
    "itemsPerUser_ver = beer_variables['itemsPerUser_ver']\n",
    "itemsPerUser_test = beer_variables['itemsPerUser_test']\n",
    "\n",
    "# format: items_xxx: [item]\n",
    "items_train = beer_variables['items_train']\n",
    "items = beer_variables['items']"
   ],
   "metadata": {
    "collapsed": false,
    "ExecuteTime": {
     "end_time": "2023-12-04T00:48:54.814320600Z",
     "start_time": "2023-12-04T00:48:51.556180800Z"
    }
   },
   "id": "9950d1f70535e0e1"
  },
  {
   "cell_type": "code",
   "execution_count": 34,
   "outputs": [],
   "source": [
    "item_review_counts = {}\n",
    "for interaction in interactions_train:\n",
    "    _, _, item, _ = interaction\n",
    "    if item in item_review_counts:\n",
    "        item_review_counts[item] += 1\n",
    "    else:\n",
    "        item_review_counts[item] = 1\n",
    "\n",
    "sorted_items = sorted(item_review_counts.keys(), key=lambda x: item_review_counts[x], reverse=True)\n",
    "popularItemRanking = {item: rank + 1 for rank, item in enumerate(sorted_items)}"
   ],
   "metadata": {
    "collapsed": false,
    "ExecuteTime": {
     "end_time": "2023-12-04T03:00:36.381188100Z",
     "start_time": "2023-12-04T03:00:35.144640300Z"
    }
   },
   "id": "195090f4581fe9ad"
  },
  {
   "cell_type": "code",
   "execution_count": 36,
   "outputs": [
    {
     "name": "stdout",
     "output_type": "stream",
     "text": [
      "Top 5 Popular Items:\n",
      "Item: 1267, Rank: 1\n",
      "Item: 734, Rank: 2\n",
      "Item: 10569, Rank: 3\n",
      "Item: 158, Rank: 4\n",
      "Item: 473, Rank: 5\n"
     ]
    }
   ],
   "source": [
    "print(\"Top 5 Popular Items:\")\n",
    "for item, rank in list(popularItemRanking.items())[:5]:\n",
    "    print(f\"Item: {item}, Rank: {rank}\")"
   ],
   "metadata": {
    "collapsed": false,
    "ExecuteTime": {
     "end_time": "2023-12-04T03:01:28.849711100Z",
     "start_time": "2023-12-04T03:01:28.780805600Z"
    }
   },
   "id": "9b30a51dd1b5dc2e"
  },
  {
   "cell_type": "code",
   "execution_count": 7,
   "outputs": [],
   "source": [
    "optimizer_PRME = tf.keras.optimizers.legacy.Adam(0.1)\n",
    "\n",
    "class PRME(tf.keras.Model):\n",
    "    def __init__(self, K, lamb):\n",
    "        super(PRME, self).__init__()\n",
    "        # Initialize variables\n",
    "        self.betaI = tf.Variable(tf.random.normal([len(itemIDs_train)], stddev=0.001))\n",
    "        self.gammaUI = tf.Variable(tf.random.normal([len(userIDs_train), K], stddev=0.001))\n",
    "        self.gammaIU = tf.Variable(tf.random.normal([len(itemIDs_train), K], stddev=0.001))\n",
    "        self.gammaIJ = tf.Variable(tf.random.normal([len(itemIDs_train), K], stddev=0.001))\n",
    "        self.gammaJI = tf.Variable(tf.random.normal([len(itemIDs_train), K], stddev=0.001))\n",
    "        # Regularization coefficient\n",
    "        self.lamb = lamb\n",
    "\n",
    "    # Prediction for a single instance\n",
    "    def predict(self, u, i, j):\n",
    "        p = self.betaI[i] + tf.norm(self.gammaUI[u] - self.gammaIU[i]) + \\\n",
    "            tf.norm(self.gammaIJ[i] - self.gammaJI[j])\n",
    "        return p\n",
    "\n",
    "    # Regularizer\n",
    "    def reg(self):\n",
    "        return self.lamb * (tf.nn.l2_loss(self.betaI) + \\\n",
    "                            tf.nn.l2_loss(self.gammaUI) + \\\n",
    "                            tf.nn.l2_loss(self.gammaIU) + \\\n",
    "                            tf.nn.l2_loss(self.gammaIJ) + \\\n",
    "                            tf.nn.l2_loss(self.gammaJI))\n",
    "\n",
    "    def call(self, sampleU,  # user\n",
    "             sampleI,  # item\n",
    "             sampleJ,  # previous item\n",
    "             sampleK):  # negative item\n",
    "        u = tf.convert_to_tensor(sampleU, dtype=tf.int32)\n",
    "        i = tf.convert_to_tensor(sampleI, dtype=tf.int32)\n",
    "        j = tf.convert_to_tensor(sampleJ, dtype=tf.int32)\n",
    "        k = tf.convert_to_tensor(sampleK, dtype=tf.int32)\n",
    "        gamma_ui = tf.nn.embedding_lookup(self.gammaUI, u)\n",
    "        gamma_iu = tf.nn.embedding_lookup(self.gammaIU, i)\n",
    "        gamma_ij = tf.nn.embedding_lookup(self.gammaIJ, i)\n",
    "        gamma_ji = tf.nn.embedding_lookup(self.gammaJI, j)\n",
    "        beta_i = tf.nn.embedding_lookup(self.betaI, i)\n",
    "        x_uij = beta_i + tf.norm(gamma_ui - gamma_iu) + tf.norm(gamma_ij - gamma_ji)\n",
    "        gamma_uk = tf.nn.embedding_lookup(self.gammaUI, u)\n",
    "        gamma_ku = tf.nn.embedding_lookup(self.gammaIU, k)\n",
    "        gamma_kj = tf.nn.embedding_lookup(self.gammaIJ, k)\n",
    "        gamma_jk = tf.nn.embedding_lookup(self.gammaJI, j)\n",
    "        beta_k = tf.nn.embedding_lookup(self.betaI, k)\n",
    "        x_ukj = beta_k + tf.norm(gamma_uk - gamma_ku) + tf.norm(gamma_kj - gamma_jk)\n",
    "\n",
    "        # pairwise hinge loss\n",
    "        return -tf.reduce_mean(tf.math.log(tf.math.sigmoid(x_uij - x_ukj)))"
   ],
   "metadata": {
    "collapsed": false,
    "ExecuteTime": {
     "end_time": "2023-12-04T00:50:25.130971900Z",
     "start_time": "2023-12-04T00:50:25.110913700Z"
    }
   },
   "id": "3f8dcbda0883c44f"
  },
  {
   "cell_type": "code",
   "execution_count": 8,
   "outputs": [],
   "source": [
    "optimizer_FPMC = tf.keras.optimizers.legacy.Adam(0.1)\n",
    "\n",
    "class FPMC(tf.keras.Model):\n",
    "    def __init__(self, K, lamb, UI=1, IJ=1):\n",
    "        super(FPMC, self).__init__()\n",
    "        # Initialize variables\n",
    "        self.betaI = tf.Variable(tf.random.normal([len(itemIDs_train)], stddev=0.001))\n",
    "        self.gammaUI = tf.Variable(tf.random.normal([len(userIDs_train), K], stddev=0.001))\n",
    "        self.gammaIU = tf.Variable(tf.random.normal([len(itemIDs_train), K], stddev=0.001))\n",
    "        self.gammaIJ = tf.Variable(tf.random.normal([len(itemIDs_train), K], stddev=0.001))\n",
    "        self.gammaJI = tf.Variable(tf.random.normal([len(itemIDs_train), K], stddev=0.001))\n",
    "        # Regularization coefficient\n",
    "        self.lamb = lamb\n",
    "        # Which terms to include\n",
    "        self.UI = UI\n",
    "        self.IJ = IJ\n",
    "\n",
    "    # Prediction for a single instance\n",
    "    def predict(self, u, i, j):\n",
    "        p = self.betaI[i] + self.UI * tf.tensordot(self.gammaUI[u], self.gammaIU[i], 1) + \\\n",
    "            self.IJ * tf.tensordot(self.gammaIJ[i], self.gammaJI[j], 1)\n",
    "        return p\n",
    "\n",
    "    # Regularizer\n",
    "    def reg(self):\n",
    "        return self.lamb * (tf.nn.l2_loss(self.betaI) + \\\n",
    "                            tf.nn.l2_loss(self.gammaUI) + \\\n",
    "                            tf.nn.l2_loss(self.gammaIU) + \\\n",
    "                            tf.nn.l2_loss(self.gammaIJ) + \\\n",
    "                            tf.nn.l2_loss(self.gammaJI))\n",
    "\n",
    "    def call(self, sampleU,  # user\n",
    "             sampleI,  # item\n",
    "             sampleJ,  # previous item\n",
    "             sampleK):  # negative item\n",
    "        u = tf.convert_to_tensor(sampleU, dtype=tf.int32)\n",
    "        i = tf.convert_to_tensor(sampleI, dtype=tf.int32)\n",
    "        j = tf.convert_to_tensor(sampleJ, dtype=tf.int32)\n",
    "        k = tf.convert_to_tensor(sampleK, dtype=tf.int32)\n",
    "        gamma_ui = tf.nn.embedding_lookup(self.gammaUI, u)\n",
    "        gamma_iu = tf.nn.embedding_lookup(self.gammaIU, i)\n",
    "        gamma_ij = tf.nn.embedding_lookup(self.gammaIJ, i)\n",
    "        gamma_ji = tf.nn.embedding_lookup(self.gammaJI, j)\n",
    "        beta_i = tf.nn.embedding_lookup(self.betaI, i)\n",
    "        x_uij = beta_i + self.UI * tf.reduce_sum(tf.multiply(gamma_ui, gamma_iu), 1) + \\\n",
    "                self.IJ * tf.reduce_sum(tf.multiply(gamma_ij, gamma_ji), 1)\n",
    "        gamma_uk = tf.nn.embedding_lookup(self.gammaUI, u)\n",
    "        gamma_ku = tf.nn.embedding_lookup(self.gammaIU, k)\n",
    "        gamma_kj = tf.nn.embedding_lookup(self.gammaIJ, k)\n",
    "        gamma_jk = tf.nn.embedding_lookup(self.gammaJI, j)\n",
    "        beta_k = tf.nn.embedding_lookup(self.betaI, k)\n",
    "        x_ukj = beta_k + self.UI * tf.reduce_sum(tf.multiply(gamma_uk, gamma_ku), 1) + \\\n",
    "                self.IJ * tf.reduce_sum(tf.multiply(gamma_kj, gamma_jk), 1)\n",
    "\n",
    "        # pairwise hinge loss\n",
    "        return -tf.reduce_mean(tf.math.log(tf.math.sigmoid(x_uij - x_ukj)))"
   ],
   "metadata": {
    "collapsed": false,
    "ExecuteTime": {
     "end_time": "2023-12-04T00:50:28.672567200Z",
     "start_time": "2023-12-04T00:50:28.668564800Z"
    }
   },
   "id": "9832ba1827d4a57a"
  },
  {
   "cell_type": "code",
   "execution_count": 45,
   "outputs": [],
   "source": [
    "# FPMC model\n",
    "modelFPMC = FPMC(5, 0.00001)\n",
    "# MF model\n",
    "modelMF = FPMC(5, 0.00001, 1, 0)\n",
    "# MC model\n",
    "modelMC = FPMC(5, 0.00001, 0, 1)\n",
    "# PRME model\n",
    "modelPRME = PRME(5, 0.00001)"
   ],
   "metadata": {
    "collapsed": false,
    "ExecuteTime": {
     "end_time": "2023-12-04T03:18:24.002469800Z",
     "start_time": "2023-12-04T03:18:23.942465200Z"
    }
   },
   "id": "898c3360943a09f5"
  },
  {
   "cell_type": "code",
   "execution_count": 46,
   "outputs": [
    {
     "data": {
      "text/plain": "<tensorflow.python.checkpoint.checkpoint.CheckpointLoadStatus at 0x1ec520d56a0>"
     },
     "execution_count": 46,
     "metadata": {},
     "output_type": "execute_result"
    }
   ],
   "source": [
    "# load weights\n",
    "modelFPMC.load_weights('FPMC_model_weights')\n",
    "modelMF.load_weights('MF_model_weights')\n",
    "modelMC.load_weights('MC_model_weights')\n",
    "modelPRME.load_weights('PRME_model_weights')"
   ],
   "metadata": {
    "collapsed": false,
    "ExecuteTime": {
     "end_time": "2023-12-04T03:18:28.779844500Z",
     "start_time": "2023-12-04T03:18:28.675837900Z"
    }
   },
   "id": "bb9c880afe5c61ee"
  },
  {
   "cell_type": "code",
   "execution_count": 12,
   "outputs": [],
   "source": [
    "interactionsVerPerUser = defaultdict(set)\n",
    "itemSet_ver = set()\n",
    "for _,u,i,j,_ in interactionsWithPrevious_ver:\n",
    "    interactionsVerPerUser[u].add((i,j))\n",
    "    itemSet_ver.add(i)\n",
    "    itemSet_ver.add(j)\n",
    "\n",
    "interactionsTestPerUser = defaultdict(set)\n",
    "itemSet_test = set()\n",
    "for _,u,i,j,_ in interactionsWithPrevious_test:\n",
    "    interactionsTestPerUser[u].add((i,j))\n",
    "    itemSet_test.add(i)\n",
    "    itemSet_test.add(j)"
   ],
   "metadata": {
    "collapsed": false,
    "ExecuteTime": {
     "end_time": "2023-12-04T02:03:07.382942900Z",
     "start_time": "2023-12-04T02:03:06.784860300Z"
    }
   },
   "id": "e7ef824a5666157b"
  },
  {
   "cell_type": "code",
   "execution_count": 68,
   "outputs": [],
   "source": [
    "def AUCu(model, interactionsPerUser, itemSet, u, N):\n",
    "    win = 0\n",
    "    if N > len(interactionsPerUser[u]):\n",
    "        N = len(interactionsPerUser[u])\n",
    "    positive = random.choices(list(interactionsPerUser[u]), k=N)\n",
    "    negative = random.choices(list(itemSet), k=N)\n",
    "    for (i,j),k in zip(positive,negative):\n",
    "        # i, j ,k, u may not be in the training set\n",
    "        if u not in userIDs_train or i not in itemIDs_train or j not in itemIDs_train or k not in itemIDs_train:\n",
    "            # if j not in popularItemRanking:\n",
    "            #     continue\n",
    "            # elif k not in popularItemRanking:\n",
    "            #     win += 1\n",
    "            #     continue\n",
    "            # else:\n",
    "            #     if popularItemRanking[j] > popularItemRanking[k]:\n",
    "            #         win += 1\n",
    "            #     continue\n",
    "            N -= 1\n",
    "            continue\n",
    "        sp = model.predict(userIDs_train[u], itemIDs_train[i], itemIDs_train[j]).numpy()\n",
    "        sn = model.predict(userIDs_train[u], itemIDs_train[k], itemIDs_train[j]).numpy()\n",
    "        if sp > sn:\n",
    "            win += 1\n",
    "    if N == 0:\n",
    "        return -1\n",
    "    else:\n",
    "        return win/N"
   ],
   "metadata": {
    "collapsed": false,
    "ExecuteTime": {
     "end_time": "2023-12-05T02:26:05.820030100Z",
     "start_time": "2023-12-05T02:26:05.804019800Z"
    }
   },
   "id": "9b848b8d766aedfd"
  },
  {
   "cell_type": "code",
   "execution_count": 71,
   "outputs": [],
   "source": [
    "def AUC(model, itemSet, interactionsPerUser, N=10):\n",
    "    av = []\n",
    "    for u in interactionsPerUser:\n",
    "        res = AUCu(model, interactionsPerUser, itemSet, u, N)\n",
    "        if res != -1:\n",
    "            av.append(res)\n",
    "    return sum(av) / len(av)"
   ],
   "metadata": {
    "collapsed": false,
    "ExecuteTime": {
     "end_time": "2023-12-05T02:26:34.051322Z",
     "start_time": "2023-12-05T02:26:34.043320900Z"
    }
   },
   "id": "bf4f113e39487f56"
  },
  {
   "cell_type": "code",
   "execution_count": 76,
   "outputs": [
    {
     "data": {
      "text/plain": "0.9121568148372737"
     },
     "execution_count": 76,
     "metadata": {},
     "output_type": "execute_result"
    }
   ],
   "source": [
    "# AUC for FPMC\n",
    "AUC(modelFPMC, itemSet_ver, interactionsVerPerUser)"
   ],
   "metadata": {
    "collapsed": false,
    "ExecuteTime": {
     "end_time": "2023-12-05T02:35:31.469697400Z",
     "start_time": "2023-12-05T02:31:03.285290300Z"
    }
   },
   "id": "aeea7e4ded820837"
  },
  {
   "cell_type": "code",
   "execution_count": 77,
   "outputs": [
    {
     "data": {
      "text/plain": "0.9090812345971807"
     },
     "execution_count": 77,
     "metadata": {},
     "output_type": "execute_result"
    }
   ],
   "source": [
    "# AUC for MF\n",
    "AUC(modelMF, itemSet_ver, interactionsVerPerUser)"
   ],
   "metadata": {
    "collapsed": false,
    "ExecuteTime": {
     "end_time": "2023-12-05T02:40:01.429286300Z",
     "start_time": "2023-12-05T02:35:31.476780300Z"
    }
   },
   "id": "7089321b6498f44e"
  },
  {
   "cell_type": "code",
   "execution_count": 78,
   "outputs": [
    {
     "data": {
      "text/plain": "0.8989835506553421"
     },
     "execution_count": 78,
     "metadata": {},
     "output_type": "execute_result"
    }
   ],
   "source": [
    "# AUC for MC\n",
    "AUC(modelMC, itemSet_ver, interactionsVerPerUser)"
   ],
   "metadata": {
    "collapsed": false,
    "ExecuteTime": {
     "end_time": "2023-12-05T02:44:29.218965500Z",
     "start_time": "2023-12-05T02:40:01.436522900Z"
    }
   },
   "id": "1ef5eac8cfb7a287"
  },
  {
   "cell_type": "code",
   "execution_count": 79,
   "outputs": [
    {
     "data": {
      "text/plain": "0.859092983224654"
     },
     "execution_count": 79,
     "metadata": {},
     "output_type": "execute_result"
    }
   ],
   "source": [
    "# AUC for PRME\n",
    "AUC(modelPRME, itemSet_ver, interactionsVerPerUser)"
   ],
   "metadata": {
    "collapsed": false,
    "ExecuteTime": {
     "end_time": "2023-12-05T02:47:43.472385800Z",
     "start_time": "2023-12-05T02:44:29.226967100Z"
    }
   },
   "id": "699097ccffef48e7"
  },
  {
   "cell_type": "code",
   "execution_count": 72,
   "outputs": [
    {
     "data": {
      "text/plain": "0.7926197067476788"
     },
     "execution_count": 72,
     "metadata": {},
     "output_type": "execute_result"
    }
   ],
   "source": [
    "# AUC for FPMC\n",
    "AUC(modelFPMC, itemSet_test, interactionsTestPerUser)"
   ],
   "metadata": {
    "collapsed": false,
    "ExecuteTime": {
     "end_time": "2023-12-05T02:27:22.623830200Z",
     "start_time": "2023-12-05T02:26:39.671155900Z"
    }
   },
   "id": "f91f68a603715d3f"
  },
  {
   "cell_type": "code",
   "execution_count": 73,
   "outputs": [
    {
     "data": {
      "text/plain": "0.7780864031710215"
     },
     "execution_count": 73,
     "metadata": {},
     "output_type": "execute_result"
    }
   ],
   "source": [
    "# AUC for MF\n",
    "AUC(modelMF, itemSet_test, interactionsTestPerUser)"
   ],
   "metadata": {
    "collapsed": false,
    "ExecuteTime": {
     "end_time": "2023-12-05T02:28:03.867140700Z",
     "start_time": "2023-12-05T02:27:22.623830200Z"
    }
   },
   "id": "e685ae642e500968"
  },
  {
   "cell_type": "code",
   "execution_count": 74,
   "outputs": [
    {
     "data": {
      "text/plain": "0.7460062454143627"
     },
     "execution_count": 74,
     "metadata": {},
     "output_type": "execute_result"
    }
   ],
   "source": [
    "# AUC for MC\n",
    "AUC(modelMC, itemSet_test, interactionsTestPerUser)"
   ],
   "metadata": {
    "collapsed": false,
    "ExecuteTime": {
     "end_time": "2023-12-05T02:28:45.907637Z",
     "start_time": "2023-12-05T02:28:03.867140700Z"
    }
   },
   "id": "bb64403cce154b94"
  },
  {
   "cell_type": "code",
   "execution_count": 75,
   "outputs": [
    {
     "data": {
      "text/plain": "0.7098225032759962"
     },
     "execution_count": 75,
     "metadata": {},
     "output_type": "execute_result"
    }
   ],
   "source": [
    "# AUC for PRME\n",
    "AUC(modelPRME, itemSet_test, interactionsTestPerUser)"
   ],
   "metadata": {
    "collapsed": false,
    "ExecuteTime": {
     "end_time": "2023-12-05T02:29:17.329925600Z",
     "start_time": "2023-12-05T02:28:45.907637Z"
    }
   },
   "id": "cb45c30f34f229ab"
  },
  {
   "cell_type": "code",
   "execution_count": null,
   "outputs": [],
   "source": [],
   "metadata": {
    "collapsed": false
   },
   "id": "2ca8fecf47dd2a6a"
  }
 ],
 "metadata": {
  "kernelspec": {
   "display_name": "Python 3",
   "language": "python",
   "name": "python3"
  },
  "language_info": {
   "codemirror_mode": {
    "name": "ipython",
    "version": 2
   },
   "file_extension": ".py",
   "mimetype": "text/x-python",
   "name": "python",
   "nbconvert_exporter": "python",
   "pygments_lexer": "ipython2",
   "version": "2.7.6"
  }
 },
 "nbformat": 4,
 "nbformat_minor": 5
}
