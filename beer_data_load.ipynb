{
 "cells": [
  {
   "cell_type": "code",
   "execution_count": 2,
   "id": "initial_id",
   "metadata": {
    "collapsed": true,
    "ExecuteTime": {
     "end_time": "2023-12-04T02:54:43.371271900Z",
     "start_time": "2023-12-04T02:54:43.361328Z"
    }
   },
   "outputs": [],
   "source": [
    "import gzip\n",
    "from collections import defaultdict\n",
    "import pickle"
   ]
  },
  {
   "cell_type": "code",
   "execution_count": 3,
   "outputs": [],
   "source": [
    "def parse(path):\n",
    "    g = gzip.open(path, 'rt')\n",
    "    for l in g:\n",
    "        yield eval(l)\n",
    "\n",
    "userIDs = {}\n",
    "itemIDs = {}\n",
    "interactions = []\n",
    "\n",
    "for d in parse(\"ratebeer.json.gz\"):\n",
    "    if 'review/profileName' in d and 'beer/beerId' in d and 'review/time' in d and 'review/overall' in d:\n",
    "        u = d['review/profileName']\n",
    "        i = d['beer/beerId']\n",
    "        if not u in userIDs:\n",
    "            userIDs[u] = len(userIDs)\n",
    "        if not i in itemIDs:\n",
    "            itemIDs[i] = len(itemIDs)\n",
    "        t = int(d['review/time'])\n",
    "        r_tmp = d['review/overall'].split('/')\n",
    "        r = float(r_tmp[0]) / float(r_tmp[1])\n",
    "        interactions.append((t, u, i, r))\n",
    "\n",
    "interactions.sort()\n",
    "\n",
    "# Take the last 10% of the entire dataset as the test set\n",
    "test_idx = int(len(interactions) * 0.9)\n",
    "interactions_test = interactions[test_idx:]\n",
    "interactions_used = interactions[:test_idx]\n",
    "\n",
    "# interactions per user\n",
    "interactionsPerUser_test = defaultdict(list)\n",
    "for t, u, i, r in interactions_test:\n",
    "    interactionsPerUser_test[u].append((t, i, r))\n",
    "\n",
    "interactionsPerUser_used = defaultdict(list)\n",
    "for t, u, i, r in interactions_used:\n",
    "    interactionsPerUser_used[u].append((t, i, r))\n",
    "\n",
    "# Splitting the used data into train, verify sets\n",
    "interactions_train = []\n",
    "interactions_ver = []\n",
    "\n",
    "interactionsPerUser_train = defaultdict(list)\n",
    "interactionsPerUser_ver = defaultdict(list)\n",
    "\n",
    "for user, interactions in interactionsPerUser_used.items():\n",
    "    total = len(interactions)\n",
    "    train_idx = int(total * 0.8)\n",
    "\n",
    "    interactionsPerUser_train[user] = interactions[:train_idx]\n",
    "    interactionsPerUser_ver[user] = interactions[train_idx:]\n",
    "    interactions_train.extend([(t, user, i, r) for t, i, r in interactions[:train_idx]])\n",
    "    interactions_ver.extend([(t, user, i, r) for t, i, r in interactions[train_idx:]])"
   ],
   "metadata": {
    "collapsed": false,
    "ExecuteTime": {
     "end_time": "2023-12-04T02:56:41.468402Z",
     "start_time": "2023-12-04T02:54:44.174636200Z"
    }
   },
   "id": "6396bc1de7d1a880"
  },
  {
   "cell_type": "code",
   "execution_count": 4,
   "outputs": [],
   "source": [
    "# summary of the data\n",
    "# Now we have 3 sets of data: train, verify, test\n",
    "# test: 10% of the entire data (292417) --> interactionsPerUser_test, interactions_test\n",
    "\n",
    "# used: 90% of the entire data (2631759) --> interactionsPerUser_used, interactions_used\n",
    "#   - train: 80% of the used data (2091056) --> interactionsPerUser_train, interactions_train\n",
    "#   - verify: 20% of the used data (540690) --> interactionsPerUser_ver, interactions_ver\n",
    "\n",
    "# format of the data\n",
    "# interactionsPerUser_xxx: [user] = [(time, item, rating)]\n",
    "# interactions_xxx: (time, user, item, rating)"
   ],
   "metadata": {
    "collapsed": false,
    "ExecuteTime": {
     "end_time": "2023-12-04T02:56:41.484406Z",
     "start_time": "2023-12-04T02:56:41.468402Z"
    }
   },
   "id": "40b40b6ce05096e4"
  },
  {
   "cell_type": "code",
   "execution_count": 5,
   "outputs": [],
   "source": [
    "userIDs_train = {}\n",
    "itemIDs_train = {}\n",
    "for t, u, i, r in interactions_train:\n",
    "    if u not in userIDs_train:\n",
    "        userIDs_train[u] = len(userIDs_train)\n",
    "    if i not in itemIDs_train:\n",
    "        itemIDs_train[i] = len(itemIDs_train)\n",
    "\n",
    "itemIDs_train['dummy'] = len(itemIDs_train)\n",
    "itemIDs['dummy'] = len(itemIDs)\n",
    "interactionsWithPrevious = []\n",
    "interactionsWithPrevious_ver = []\n",
    "interactionsWithPrevious_test = []\n",
    "\n",
    "for u in interactionsPerUser_train:\n",
    "    lastItem = 'dummy'\n",
    "    for (t, i, r) in interactionsPerUser_train[u]:\n",
    "        interactionsWithPrevious.append((t, u, i, lastItem, r))\n",
    "        lastItem = i\n",
    "\n",
    "for u in interactionsPerUser_ver:\n",
    "    # \"lastItem\": the last item of the train set, so we get the last item of the train set for each user\n",
    "    # \"dummy\": if there is no interaction in the train set, we use 'dummy' as a placeholder\n",
    "    if u in interactionsPerUser_train and len(interactionsPerUser_train[u]) > 0:\n",
    "        lastItem = interactionsPerUser_train[u][-1][1]\n",
    "    else:\n",
    "        lastItem = 'dummy'\n",
    "\n",
    "    for (t, i, r) in interactionsPerUser_ver[u]:\n",
    "        interactionsWithPrevious_ver.append((t, u, i, lastItem, r))\n",
    "        lastItem = i\n",
    "\n",
    "for user, interactions in interactionsPerUser_test.items():\n",
    "    if user in interactionsPerUser_ver and len(interactionsPerUser_ver[user]) > 0:\n",
    "        lastItem = interactionsPerUser_ver[user][-1][1]\n",
    "    elif user in interactionsPerUser_train and len(interactionsPerUser_train[user]) > 0:\n",
    "        lastItem = interactionsPerUser_train[user][-1][1]\n",
    "    else:\n",
    "        lastItem = 'dummy'\n",
    "\n",
    "    for (t, i, r) in interactions:\n",
    "        interactionsWithPrevious_test.append((t, user, i, lastItem, r))\n",
    "        lastItem = i"
   ],
   "metadata": {
    "collapsed": false,
    "ExecuteTime": {
     "end_time": "2023-12-04T02:56:46.912905800Z",
     "start_time": "2023-12-04T02:56:45.251924200Z"
    }
   },
   "id": "49aca49a9010fbc5"
  },
  {
   "cell_type": "code",
   "execution_count": 6,
   "outputs": [
    {
     "name": "stdout",
     "output_type": "stream",
     "text": [
      "(955497600, 'billb', '132', 'dummy', 0.85)\n",
      "(956448000, 'billb', '544', '132', 0.85)\n",
      "(956448000, 'billb', '547', '544', 0.5)\n",
      "2091056\n",
      "(1010534400, 'billb', '2090', '10325', 0.8)\n",
      "(1010707200, 'billb', '4082', '2090', 0.7)\n",
      "(1010966400, 'billb', '7323', '4082', 0.85)\n",
      "540690\n"
     ]
    }
   ],
   "source": [
    "# instance of an interaction with the previous item\n",
    "# format: (time, user, item, lastItem, rating)\n",
    "print(interactionsWithPrevious[0])\n",
    "print(interactionsWithPrevious[1])\n",
    "print(interactionsWithPrevious[2])\n",
    "print(len(interactionsWithPrevious))\n",
    "\n",
    "# instance of an interaction with the previous item for verify set\n",
    "print(interactionsWithPrevious_ver[0])\n",
    "print(interactionsWithPrevious_ver[1])\n",
    "print(interactionsWithPrevious_ver[2])\n",
    "print(len(interactionsWithPrevious_ver))"
   ],
   "metadata": {
    "collapsed": false,
    "ExecuteTime": {
     "end_time": "2023-12-04T02:56:46.935113200Z",
     "start_time": "2023-12-04T02:56:46.916827200Z"
    }
   },
   "id": "b0a56d420543debd"
  },
  {
   "cell_type": "code",
   "execution_count": 7,
   "outputs": [],
   "source": [
    "itemsPerUser_train = defaultdict(set)\n",
    "for _, u, i, _ in interactions_train:\n",
    "    itemsPerUser_train[u].add(i)\n",
    "    \n",
    "itemsPerUser_ver = defaultdict(set)\n",
    "for _, u, i, _ in interactions_ver:\n",
    "    itemsPerUser_ver[u].add(i)\n",
    "\n",
    "itemsPerUser_test = defaultdict(set)\n",
    "for _, u, i, _ in interactions_test:\n",
    "    itemsPerUser_test[u].add(i)\n",
    "\n",
    "# beerIDs\n",
    "items_train = list(itemIDs_train.keys())\n",
    "items = list(itemIDs.keys())"
   ],
   "metadata": {
    "collapsed": false,
    "ExecuteTime": {
     "end_time": "2023-12-04T02:56:48.323385700Z",
     "start_time": "2023-12-04T02:56:46.931130900Z"
    }
   },
   "id": "9ef55f3d2af153c1"
  },
  {
   "cell_type": "code",
   "execution_count": 9,
   "outputs": [],
   "source": [
    "# save the data\n",
    "beer_variables = {\n",
    "    # format: xxxIDs[user] = id\n",
    "    'userIDs': userIDs,\n",
    "    'itemIDs': itemIDs,\n",
    "    'userIDs_train': userIDs_train,\n",
    "    'itemIDs_train': itemIDs_train,\n",
    "    \n",
    "    # format: interactions_xxx: (time, user, item, rating)\n",
    "    'interactions_test': interactions_test,\n",
    "    'interactions_used': interactions_used,\n",
    "    'interactions_train': interactions_train,\n",
    "    'interactions_ver': interactions_ver,\n",
    "    \n",
    "    # format: interactionsPerUser_xxx: [user] = [(time, item, rating)]\n",
    "    'interactionsPerUser_test': interactionsPerUser_test,\n",
    "    'interactionsPerUser_used': interactionsPerUser_used,\n",
    "    'interactionsPerUser_train': interactionsPerUser_train,\n",
    "    'interactionsPerUser_ver': interactionsPerUser_ver,\n",
    "    \n",
    "    # format: interactionsWithPrevious_xxx: (time, user, item, lastItem, rating)\n",
    "    'interactionsWithPrevious': interactionsWithPrevious,\n",
    "    'interactionsWithPrevious_ver': interactionsWithPrevious_ver,\n",
    "    'interactionsWithPrevious_test': interactionsWithPrevious_test,\n",
    "    \n",
    "    # format: itemsPerUser_xxx: [user] = [item]\n",
    "    'itemsPerUser_train': itemsPerUser_train,\n",
    "    'itemsPerUser_ver': itemsPerUser_ver,\n",
    "    'itemsPerUser_test': itemsPerUser_test,\n",
    "    \n",
    "    # format: items_xxx: [item]\n",
    "    'items_train': items_train,\n",
    "    'items': items\n",
    "}\n",
    "\n",
    "with open('beer_variables.pkl', 'wb') as file:\n",
    "    pickle.dump(beer_variables, file)"
   ],
   "metadata": {
    "collapsed": false,
    "ExecuteTime": {
     "end_time": "2023-12-04T03:28:05.709286100Z",
     "start_time": "2023-12-04T03:27:53.280142200Z"
    }
   },
   "id": "6a94937d17ffa2a3"
  },
  {
   "cell_type": "code",
   "execution_count": null,
   "outputs": [],
   "source": [],
   "metadata": {
    "collapsed": false
   },
   "id": "513ecfd39a1cf0b1"
  }
 ],
 "metadata": {
  "kernelspec": {
   "display_name": "Python 3",
   "language": "python",
   "name": "python3"
  },
  "language_info": {
   "codemirror_mode": {
    "name": "ipython",
    "version": 2
   },
   "file_extension": ".py",
   "mimetype": "text/x-python",
   "name": "python",
   "nbconvert_exporter": "python",
   "pygments_lexer": "ipython2",
   "version": "2.7.6"
  }
 },
 "nbformat": 4,
 "nbformat_minor": 5
}
